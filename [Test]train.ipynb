{
 "cells": [
  {
   "metadata": {},
   "cell_type": "markdown",
   "source": "## ESN Test",
   "id": "7a1358482252f2b1"
  },
  {
   "metadata": {
    "ExecuteTime": {
     "end_time": "2024-06-09T07:47:45.690519Z",
     "start_time": "2024-06-09T07:47:45.681268Z"
    }
   },
   "cell_type": "code",
   "source": [
    "import torch\n",
    "from torch.utils.data import DataLoader\n",
    "from Classifier.nn.esn import ESN\n",
    "from Preprocessing.preprocessing import create_dataloader\n",
    "import os\n",
    "\n",
    "# Parameters\n",
    "# WAV 파일이 있는 디렉토리\n",
    "wav_dir_train = '/Users/imdohyeon/Documents/PythonWorkspace/Lieon-ai/dataset/train'\n",
    "wav_path_train = [os.path.join(wav_dir_train, file) for file in os.listdir(wav_dir_train) if file.endswith('.wav')]\n",
    "\n",
    "wav_dir_test = '/Users/imdohyeon/Documents/PythonWorkspace/Lieon-ai/dataset/test'\n",
    "wav_path_test = [os.path.join(wav_dir_test, file) for file in os.listdir(wav_dir_test) if file.endswith('.wav')]\n",
    "\n",
    "\n",
    "max_length = 200  # Set maximum length for padding/truncating\n",
    "batch_size = 4\n",
    "leaking_rate = 1.0\n",
    "spectral_radius = 0.9\n",
    "lambda_reg = 1e-4\n",
    "washout = 10\n",
    "input_size = 23  # feature 개수\n",
    "hidden_size = 100\n",
    "output_size = 1  # 출력 값이 0.5보다 작으면 클래스 0(거짓말 아님), 0.5보다 크면 클래스 1(거짓말)\n",
    "num_layers = 1  # Reservoir 개수\n",
    "w_ih_scale = 1.0  # 첫 번째 레이어의 입력 가중치 스케일\n",
    "density = 1.0  # 순환 가중치 행렬의 밀도 (1이면 모든 요소가 nonzero)\n",
    "readout_training = 'svd'  # Readout 학습 알고리즘 지정 (svd, cholesky, inv, gd)\n",
    "output_steps = 'all'  # ridge regression 방법에서 reservoir 출력을 사용하는 방법 (last, all, mean)\n"
   ],
   "id": "590f2e757d4ed069",
   "outputs": [],
   "execution_count": 12
  },
  {
   "metadata": {
    "ExecuteTime": {
     "end_time": "2024-06-09T07:47:46.374622Z",
     "start_time": "2024-06-09T07:47:46.364670Z"
    }
   },
   "cell_type": "code",
   "source": [
    "# Create DataLoader\n",
    "dataloader = create_dataloader(wav_path_train, max_length, batch_size, shuffle=True)\n",
    "\n",
    "# Initialize ESN\n",
    "esn = ESN(input_size=input_size, hidden_size=hidden_size, output_size=output_size,\n",
    "          num_layers=num_layers, leaking_rate=leaking_rate, spectral_radius=spectral_radius,\n",
    "          lambda_reg=lambda_reg, batch_first=True)\n",
    "\n",
    "# Training loop\n",
    "num_epochs = 10\n",
    "criterion = torch.nn.MSELoss()  # Example loss function\n",
    "optimizer = torch.optim.Adam(esn.parameters(), lr=1e-3)"
   ],
   "id": "d8eed7a6cacebcf",
   "outputs": [],
   "execution_count": 13
  },
  {
   "metadata": {
    "ExecuteTime": {
     "end_time": "2024-06-09T07:59:44.211893Z",
     "start_time": "2024-06-09T07:57:45.614904Z"
    }
   },
   "cell_type": "code",
   "source": [
    "for epoch in range(num_epochs):\n",
    "    for inputs, targets in dataloader:\n",
    "        # Zero gradients\n",
    "        optimizer.zero_grad()\n",
    "        \n",
    "        # Prepare washout for each sample in the batch\n",
    "        washout_tensor = torch.tensor([washout] * inputs.size(0))\n",
    "        \n",
    "        # Forward pass\n",
    "        outputs, _ = esn(inputs, washout_tensor)\n",
    "        \n",
    "        # Remove the washout period from the outputs and targets\n",
    "        outputs = outputs[:, washout:, :]\n",
    "        targets = targets[:, washout:]\n",
    "        \n",
    "        min_length = min(outputs.size(1), targets.size(1))\n",
    "        outputs = outputs[:, :min_length, :]  # Truncate outputs to min length\n",
    "        targets = targets[:, :min_length]     # Truncate targets to min length\n",
    "        \n",
    "        outputs = outputs.squeeze(-1) \n",
    "        \n",
    "        # Compute loss\n",
    "        loss = criterion(outputs, targets)\n",
    "        \n",
    "        # Backward pass and optimize\n",
    "        loss.backward()\n",
    "        optimizer.step()\n",
    "    \n",
    "    print(f'Epoch {epoch+1}/{num_epochs}, Loss: {loss.item()}')"
   ],
   "id": "8a68e3c4c3c41c53",
   "outputs": [
    {
     "name": "stdout",
     "output_type": "stream",
     "text": [
      "Epoch 1/10, Loss: 4.252281188964844\n",
      "Epoch 2/10, Loss: 3.964891195297241\n",
      "Epoch 3/10, Loss: 3.689911127090454\n",
      "Epoch 4/10, Loss: 3.427537679672241\n",
      "Epoch 5/10, Loss: 3.177931308746338\n",
      "Epoch 6/10, Loss: 2.941208600997925\n",
      "Epoch 7/10, Loss: 2.717440366744995\n",
      "Epoch 8/10, Loss: 2.506647825241089\n",
      "Epoch 9/10, Loss: 2.308809518814087\n",
      "Epoch 10/10, Loss: 2.1238598823547363\n"
     ]
    }
   ],
   "execution_count": 21
  },
  {
   "metadata": {
    "ExecuteTime": {
     "end_time": "2024-06-09T07:59:56.364105Z",
     "start_time": "2024-06-09T07:59:56.357048Z"
    }
   },
   "cell_type": "code",
   "source": [
    "# Save the trained Classifier\n",
    "torch.save(esn.state_dict(), 'esn_model_test.pth')"
   ],
   "id": "6634dac275d72d11",
   "outputs": [],
   "execution_count": 22
  },
  {
   "metadata": {},
   "cell_type": "code",
   "outputs": [],
   "execution_count": null,
   "source": "",
   "id": "2da57a0ea2bdcfa5"
  }
 ],
 "metadata": {
  "kernelspec": {
   "display_name": "Python 3",
   "language": "python",
   "name": "python3"
  },
  "language_info": {
   "codemirror_mode": {
    "name": "ipython",
    "version": 2
   },
   "file_extension": ".py",
   "mimetype": "text/x-python",
   "name": "python",
   "nbconvert_exporter": "python",
   "pygments_lexer": "ipython2",
   "version": "2.7.6"
  }
 },
 "nbformat": 4,
 "nbformat_minor": 5
}
