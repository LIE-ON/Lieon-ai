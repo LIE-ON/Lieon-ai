{
 "cells": [
  {
   "cell_type": "code",
   "id": "initial_id",
   "metadata": {
    "collapsed": true,
    "ExecuteTime": {
     "end_time": "2024-05-31T08:53:52.055939Z",
     "start_time": "2024-05-31T08:53:50.640611Z"
    }
   },
   "source": [
    "# Test\n",
    "import librosa\n",
    "import numpy as np\n",
    "import pandas as pd\n",
    "import parselmouth\n",
    "from parselmouth.praat import call\n",
    "from scipy.signal import find_peaks, lfilter, hamming\n",
    "from scipy.io import wavfile\n",
    "from scipy.fftpack import fft\n",
    "import features  # features.py 파일을 import\n",
    "import os\n",
    "import torch\n",
    "from torch.utils.data import Dataset, DataLoader\n",
    "import csvpreprocessing\n",
    "\n",
    "# 배열의 모든 요소를 출력하도록 설정\n",
    "np.set_printoptions(threshold=np.inf)"
   ],
   "outputs": [],
   "execution_count": 1
  },
  {
   "metadata": {
    "ExecuteTime": {
     "end_time": "2024-05-31T08:54:00.245266Z",
     "start_time": "2024-05-31T08:53:53.931336Z"
    }
   },
   "cell_type": "code",
   "source": [
    "wav_dir = '/Users/imdohyeon/Documents/PythonWorkspace/Lieon-ai/dataset/train'\n",
    "wav_files = [os.path.join(wav_dir, file) for file in os.listdir(wav_dir) if file.endswith('.wav')]\n",
    "\n",
    "# 데이터셋 생성\n",
    "dataset = csvpreprocessing.WAVDataset(wav_files)\n",
    "\n",
    "sample = dataset.__getitem__(1)"
   ],
   "id": "bf1607b07e3db5af",
   "outputs": [],
   "execution_count": 2
  },
  {
   "metadata": {
    "ExecuteTime": {
     "end_time": "2024-05-31T08:45:05.684332Z",
     "start_time": "2024-05-31T08:45:05.673079Z"
    }
   },
   "cell_type": "code",
   "source": "sample",
   "id": "ed9b21d70f04fb00",
   "outputs": [
    {
     "data": {
      "text/plain": [
       "(tensor([[-4.8181e+02,  3.3731e+00,  3.3282e+00,  ...,  2.1103e+02,\n",
       "           0.0000e+00,  3.7533e-01],\n",
       "         [-4.7673e+02,  1.0261e+01,  9.8839e+00,  ...,  1.5069e+02,\n",
       "           0.0000e+00,  9.0691e-01],\n",
       "         [-4.6900e+02,  2.0181e+01,  1.7895e+01,  ...,  1.6791e+02,\n",
       "           0.0000e+00,  1.1768e+00],\n",
       "         ...,\n",
       "         [-3.1289e+02,  1.5713e+02,  1.1157e+01,  ...,  4.2300e+02,\n",
       "           0.0000e+00,  7.8305e+00],\n",
       "         [-3.0890e+02,  1.5953e+02,  1.0140e+01,  ...,  4.1955e+02,\n",
       "           0.0000e+00,  1.1800e+01],\n",
       "         [-2.9315e+02,  1.6611e+02, -2.7122e+00,  ...,  5.4527e+02,\n",
       "           0.0000e+00,  1.1800e+01]]),\n",
       " tensor([4.1649, 3.3873, 2.3456,  ..., 3.9200, 3.6252, 3.6067]))"
      ]
     },
     "execution_count": 6,
     "metadata": {},
     "output_type": "execute_result"
    }
   ],
   "execution_count": 6
  },
  {
   "metadata": {
    "ExecuteTime": {
     "end_time": "2024-05-31T08:39:26.615511Z",
     "start_time": "2024-05-31T08:39:26.610540Z"
    }
   },
   "cell_type": "code",
   "source": "sample[0].shape",
   "id": "5a2498cbc0625d89",
   "outputs": [
    {
     "data": {
      "text/plain": [
       "torch.Size([21143, 23])"
      ]
     },
     "execution_count": 13,
     "metadata": {},
     "output_type": "execute_result"
    }
   ],
   "execution_count": 13
  },
  {
   "metadata": {
    "ExecuteTime": {
     "end_time": "2024-05-31T08:39:53.893664Z",
     "start_time": "2024-05-31T08:39:53.889777Z"
    }
   },
   "cell_type": "code",
   "source": "sample[1].shape",
   "id": "dc7683e6066edd26",
   "outputs": [
    {
     "data": {
      "text/plain": [
       "torch.Size([21143])"
      ]
     },
     "execution_count": 15,
     "metadata": {},
     "output_type": "execute_result"
    }
   ],
   "execution_count": 15
  },
  {
   "metadata": {
    "ExecuteTime": {
     "end_time": "2024-05-31T09:30:08.290863Z",
     "start_time": "2024-05-31T09:30:08.281142Z"
    }
   },
   "cell_type": "code",
   "source": [
    "# WAV 파일이 있는 디렉토리\n",
    "wav_dir = '/Users/imdohyeon/Documents/PythonWorkspace/Lieon-ai/dataset/train'\n",
    "wav_files = [os.path.join(wav_dir, file) for file in os.listdir(wav_dir) if file.endswith('.wav')]\n",
    "\n",
    "# 데이터셋 생성 & 데이터셋을 트레인 셋과 테스트 셋으로 분할\n",
    "dataset = csvpreprocessing.WAVDataset(wav_files)\n",
    "train_dataset, test_dataset = csvpreprocessing.split_dataset(dataset, train_ratio=0.8)\n",
    "\n",
    "# 데이터로더 생성\n",
    "train_dataloader = DataLoader(train_dataset, batch_size=32, shuffle=True, num_workers=4)\n",
    "test_dataloader = DataLoader(test_dataset, batch_size=32, shuffle=False, num_workers=4)"
   ],
   "id": "8052f3266136650c",
   "outputs": [],
   "execution_count": 5
  }
 ],
 "metadata": {
  "kernelspec": {
   "display_name": "Python 3",
   "language": "python",
   "name": "python3"
  },
  "language_info": {
   "codemirror_mode": {
    "name": "ipython",
    "version": 2
   },
   "file_extension": ".py",
   "mimetype": "text/x-python",
   "name": "python",
   "nbconvert_exporter": "python",
   "pygments_lexer": "ipython2",
   "version": "2.7.6"
  }
 },
 "nbformat": 4,
 "nbformat_minor": 5
}
