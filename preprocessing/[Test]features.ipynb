{
 "cells": [
  {
   "cell_type": "code",
   "source": [
    "import librosa\n",
    "import numpy as np\n",
    "import pandas as pd\n",
    "import parselmouth\n",
    "from parselmouth.praat import call\n",
    "from scipy.signal import find_peaks, lfilter, hamming\n",
    "from scipy.io import wavfile\n",
    "from scipy.fftpack import fft\n",
    "import features"
   ],
   "metadata": {
    "collapsed": false,
    "ExecuteTime": {
     "end_time": "2024-05-31T09:50:39.805647Z",
     "start_time": "2024-05-31T09:50:39.052991Z"
    }
   },
   "id": "9c4b7f6b13f65670",
   "outputs": [],
   "execution_count": 1
  },
  {
   "cell_type": "code",
   "source": [
    "# Load an audio file\n",
    "audio_path = '/Users/imdohyeon/Documents/PythonWorkspace/Lieon-ai/Dataset/train/data2.wav'  # Replace with your audio file path\n",
    "y, sr = librosa.load(audio_path, sr=44100)  # 다운샘플링 하지 않음"
   ],
   "metadata": {
    "collapsed": false,
    "ExecuteTime": {
     "end_time": "2024-05-31T09:50:41.518934Z",
     "start_time": "2024-05-31T09:50:40.462344Z"
    }
   },
   "id": "afb854adce94ce3e",
   "outputs": [],
   "execution_count": 2
  },
  {
   "metadata": {},
   "cell_type": "markdown",
   "source": "# Preprocessing",
   "id": "62a751791af7195b"
  },
  {
   "metadata": {
    "ExecuteTime": {
     "end_time": "2024-05-31T09:50:07.873086Z",
     "start_time": "2024-05-31T09:50:07.872985Z"
    }
   },
   "cell_type": "code",
   "source": [
    "pitch = features.extract_pitch(y, sr)\n",
    "pitch"
   ],
   "id": "8dbeb29d7dc91062",
   "outputs": [],
   "execution_count": null
  },
  {
   "metadata": {},
   "cell_type": "code",
   "source": [
    "f0_pyworld = features.extract_f0_pyworld(y, sr)\n",
    "f0_pyworld"
   ],
   "id": "edeb0f6b235fd2c9",
   "outputs": [],
   "execution_count": null
  },
  {
   "cell_type": "code",
   "source": [
    "# formants = features.extract_formants(audio_path)\n",
    "formants = features.extract_formants_for_frames(audio_path)\n",
    "formants"
   ],
   "metadata": {
    "collapsed": false
   },
   "id": "aa81f8d4e1fe6f57",
   "outputs": [],
   "execution_count": null
  },
  {
   "cell_type": "code",
   "source": [
    "# 함수 사용 예시\n",
    "formants = features.extract_formants_praat(audio_path)\n",
    "formants"
   ],
   "metadata": {
    "collapsed": false
   },
   "id": "fdffb4f0e2aa8969",
   "outputs": [],
   "execution_count": null
  },
  {
   "cell_type": "code",
   "source": [
    "spectral_flux = features.extract_spectral_flux(y, sr)\n",
    "spectral_flux"
   ],
   "metadata": {
    "collapsed": false
   },
   "id": "b8b6a686e20a8437",
   "outputs": [],
   "execution_count": null
  },
  {
   "cell_type": "code",
   "source": [
    "spectral_entropy = features.extract_spectral_entropy(y, sr)\n",
    "spectral_entropy"
   ],
   "metadata": {
    "collapsed": false
   },
   "id": "8a9631b945a39496",
   "outputs": [],
   "execution_count": null
  },
  {
   "cell_type": "code",
   "source": [
    "mfcc = features.extract_mfcc(y, sr)\n",
    "mfcc"
   ],
   "metadata": {
    "collapsed": false
   },
   "id": "19a3fba8a2c69557",
   "outputs": [],
   "execution_count": null
  },
  {
   "metadata": {},
   "cell_type": "markdown",
   "source": "# Concatenate features",
   "id": "d0eb168b507c9a88"
  },
  {
   "metadata": {},
   "cell_type": "code",
   "source": [
    "def merge_features(features_dict):\n",
    "    # 피처들을 하나의 데이터프레임으로 병합\n",
    "    df_list = []\n",
    "    for key, df in features_dict.items():\n",
    "        # 각 DataFrame의 행 수를 통일\n",
    "        df_list.append(df)\n",
    "\n",
    "    # 열 방향으로 병합\n",
    "    concated_df = pd.concat(df_list, axis=1)\n",
    "    return concated_df\n",
    "\n",
    "features_dict = {\n",
    "            'mfcc': mfcc,\n",
    "            'pitch': pitch,\n",
    "            'f0_pyworld': f0_pyworld,\n",
    "            'spectral_flux': spectral_flux,\n",
    "            'spectral_entropy': spectral_entropy\n",
    "        }\n",
    "\n",
    "\n",
    "a = merge_features(features_dict)\n",
    "a"
   ],
   "id": "8630f2762f63ac48",
   "outputs": [],
   "execution_count": null
  },
  {
   "metadata": {},
   "cell_type": "code",
   "source": "a.isna().sum()",
   "id": "5802d3995d4fd4ba",
   "outputs": [],
   "execution_count": null
  },
  {
   "metadata": {},
   "cell_type": "code",
   "outputs": [],
   "execution_count": null,
   "source": "",
   "id": "5436f19fee247e0e"
  }
 ],
 "metadata": {
  "kernelspec": {
   "display_name": "Python 3",
   "language": "python",
   "name": "python3"
  },
  "language_info": {
   "codemirror_mode": {
    "name": "ipython",
    "version": 2
   },
   "file_extension": ".py",
   "mimetype": "text/x-python",
   "name": "python",
   "nbconvert_exporter": "python",
   "pygments_lexer": "ipython2",
   "version": "2.7.6"
  }
 },
 "nbformat": 4,
 "nbformat_minor": 5
}
