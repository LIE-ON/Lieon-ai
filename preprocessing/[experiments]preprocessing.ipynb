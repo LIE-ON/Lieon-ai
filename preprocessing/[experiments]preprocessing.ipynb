{
 "cells": [
  {
   "cell_type": "code",
   "execution_count": 1,
   "outputs": [],
   "source": [
    "import librosa\n",
    "import numpy as np\n",
    "import pandas as pd\n",
    "import parselmouth\n",
    "from parselmouth.praat import call\n",
    "from scipy.signal import find_peaks, lfilter, hamming\n",
    "from scipy.io import wavfile\n",
    "from scipy.fftpack import fft\n",
    "import features"
   ],
   "metadata": {
    "collapsed": false,
    "ExecuteTime": {
     "end_time": "2024-05-16T01:46:52.176230Z",
     "start_time": "2024-05-16T01:46:51.693660Z"
    }
   },
   "id": "9c4b7f6b13f65670"
  },
  {
   "cell_type": "code",
   "execution_count": 2,
   "outputs": [],
   "source": [
    "# Load an audio file\n",
    "audio_path = '/Users/imdohyeon/Documents/PythonWorkspace/Lieon-ai/Dataset/data2.wav'  # Replace with your audio file path\n",
    "y, sr = librosa.load(audio_path, sr=44100)  # 다운샘플링 하지 않음"
   ],
   "metadata": {
    "collapsed": false,
    "ExecuteTime": {
     "end_time": "2024-05-16T01:46:53.405485Z",
     "start_time": "2024-05-16T01:46:52.590259Z"
    }
   },
   "id": "afb854adce94ce3e"
  },
  {
   "cell_type": "code",
   "execution_count": 4,
   "outputs": [
    {
     "data": {
      "text/plain": "array([  0.        ,   0.        ,   0.        , ..., 165.76853496,\n       169.64319079, 168.66611791])"
     },
     "execution_count": 4,
     "metadata": {},
     "output_type": "execute_result"
    }
   ],
   "source": [
    "f0 = features.extract_f0(y, sr)\n",
    "f0"
   ],
   "metadata": {
    "collapsed": false,
    "ExecuteTime": {
     "end_time": "2024-05-16T01:48:45.211642Z",
     "start_time": "2024-05-16T01:47:21.378943Z"
    }
   },
   "id": "7b4db5885dace55f"
  },
  {
   "cell_type": "code",
   "execution_count": 5,
   "outputs": [
    {
     "data": {
      "text/plain": "<function features.extract_formants_for_frames(audio_file, frame_length=0.025, hop_length=0.01)>"
     },
     "execution_count": 5,
     "metadata": {},
     "output_type": "execute_result"
    }
   ],
   "source": [
    "# formants = features.extract_formants(audio_path)\n",
    "formants = features.extract_formants_for_frames\n",
    "formants"
   ],
   "metadata": {
    "collapsed": false,
    "ExecuteTime": {
     "end_time": "2024-05-16T01:52:32.549486Z",
     "start_time": "2024-05-16T01:52:32.547230Z"
    }
   },
   "id": "aa81f8d4e1fe6f57"
  },
  {
   "cell_type": "code",
   "execution_count": 3,
   "outputs": [
    {
     "data": {
      "text/plain": "           times           F1           F2           F3           F4  \\\n0       0.067449   838.418375  1742.820797  3004.278130  3530.450432   \n1       0.167449   802.914010  1756.187974  2532.414115  3321.675721   \n2       0.267449   550.499866  1506.950439  2149.751029  3431.365438   \n3       0.367449   519.449973  1579.796344  2457.830722  3197.789147   \n4       0.467449   462.718279  1772.549816  2251.231361  3550.314202   \n...          ...          ...          ...          ...          ...   \n3765  376.567449   824.324183  2337.881964  2979.030259  4687.754512   \n3766  376.667449   862.648479  1073.719199  3041.878223  3831.589163   \n3767  376.767449  1039.120188  2172.697376  2914.820940  4689.116488   \n3768  376.867449   470.549898  1258.034277  2222.669437  3472.739877   \n3769  376.967449   388.471791  1610.718385  2284.353728  3432.199233   \n\n               F5   F0(pitch)   filename  \n0             NaN         NaN  data2.wav  \n1             NaN         NaN  data2.wav  \n2             NaN         NaN  data2.wav  \n3     4124.466777  170.629059  data2.wav  \n4             NaN  156.181662  data2.wav  \n...           ...         ...        ...  \n3765          NaN  270.260443  data2.wav  \n3766  4936.897093  301.893814  data2.wav  \n3767          NaN  333.447364  data2.wav  \n3768  5179.495517         NaN  data2.wav  \n3769  4794.971395         NaN  data2.wav  \n\n[3770 rows x 8 columns]",
      "text/html": "<div>\n<style scoped>\n    .dataframe tbody tr th:only-of-type {\n        vertical-align: middle;\n    }\n\n    .dataframe tbody tr th {\n        vertical-align: top;\n    }\n\n    .dataframe thead th {\n        text-align: right;\n    }\n</style>\n<table border=\"1\" class=\"dataframe\">\n  <thead>\n    <tr style=\"text-align: right;\">\n      <th></th>\n      <th>times</th>\n      <th>F1</th>\n      <th>F2</th>\n      <th>F3</th>\n      <th>F4</th>\n      <th>F5</th>\n      <th>F0(pitch)</th>\n      <th>filename</th>\n    </tr>\n  </thead>\n  <tbody>\n    <tr>\n      <th>0</th>\n      <td>0.067449</td>\n      <td>838.418375</td>\n      <td>1742.820797</td>\n      <td>3004.278130</td>\n      <td>3530.450432</td>\n      <td>NaN</td>\n      <td>NaN</td>\n      <td>data2.wav</td>\n    </tr>\n    <tr>\n      <th>1</th>\n      <td>0.167449</td>\n      <td>802.914010</td>\n      <td>1756.187974</td>\n      <td>2532.414115</td>\n      <td>3321.675721</td>\n      <td>NaN</td>\n      <td>NaN</td>\n      <td>data2.wav</td>\n    </tr>\n    <tr>\n      <th>2</th>\n      <td>0.267449</td>\n      <td>550.499866</td>\n      <td>1506.950439</td>\n      <td>2149.751029</td>\n      <td>3431.365438</td>\n      <td>NaN</td>\n      <td>NaN</td>\n      <td>data2.wav</td>\n    </tr>\n    <tr>\n      <th>3</th>\n      <td>0.367449</td>\n      <td>519.449973</td>\n      <td>1579.796344</td>\n      <td>2457.830722</td>\n      <td>3197.789147</td>\n      <td>4124.466777</td>\n      <td>170.629059</td>\n      <td>data2.wav</td>\n    </tr>\n    <tr>\n      <th>4</th>\n      <td>0.467449</td>\n      <td>462.718279</td>\n      <td>1772.549816</td>\n      <td>2251.231361</td>\n      <td>3550.314202</td>\n      <td>NaN</td>\n      <td>156.181662</td>\n      <td>data2.wav</td>\n    </tr>\n    <tr>\n      <th>...</th>\n      <td>...</td>\n      <td>...</td>\n      <td>...</td>\n      <td>...</td>\n      <td>...</td>\n      <td>...</td>\n      <td>...</td>\n      <td>...</td>\n    </tr>\n    <tr>\n      <th>3765</th>\n      <td>376.567449</td>\n      <td>824.324183</td>\n      <td>2337.881964</td>\n      <td>2979.030259</td>\n      <td>4687.754512</td>\n      <td>NaN</td>\n      <td>270.260443</td>\n      <td>data2.wav</td>\n    </tr>\n    <tr>\n      <th>3766</th>\n      <td>376.667449</td>\n      <td>862.648479</td>\n      <td>1073.719199</td>\n      <td>3041.878223</td>\n      <td>3831.589163</td>\n      <td>4936.897093</td>\n      <td>301.893814</td>\n      <td>data2.wav</td>\n    </tr>\n    <tr>\n      <th>3767</th>\n      <td>376.767449</td>\n      <td>1039.120188</td>\n      <td>2172.697376</td>\n      <td>2914.820940</td>\n      <td>4689.116488</td>\n      <td>NaN</td>\n      <td>333.447364</td>\n      <td>data2.wav</td>\n    </tr>\n    <tr>\n      <th>3768</th>\n      <td>376.867449</td>\n      <td>470.549898</td>\n      <td>1258.034277</td>\n      <td>2222.669437</td>\n      <td>3472.739877</td>\n      <td>5179.495517</td>\n      <td>NaN</td>\n      <td>data2.wav</td>\n    </tr>\n    <tr>\n      <th>3769</th>\n      <td>376.967449</td>\n      <td>388.471791</td>\n      <td>1610.718385</td>\n      <td>2284.353728</td>\n      <td>3432.199233</td>\n      <td>4794.971395</td>\n      <td>NaN</td>\n      <td>data2.wav</td>\n    </tr>\n  </tbody>\n</table>\n<p>3770 rows × 8 columns</p>\n</div>"
     },
     "execution_count": 3,
     "metadata": {},
     "output_type": "execute_result"
    }
   ],
   "source": [
    "# 함수 사용 예시\n",
    "formants = features.extract_formants_praat(audio_path)\n",
    "formants"
   ],
   "metadata": {
    "collapsed": false,
    "ExecuteTime": {
     "end_time": "2024-05-16T01:47:04.296526Z",
     "start_time": "2024-05-16T01:47:04.286204Z"
    }
   },
   "id": "fdffb4f0e2aa8969"
  },
  {
   "cell_type": "code",
   "execution_count": 9,
   "outputs": [
    {
     "data": {
      "text/plain": "array([0.06530739, 0.06066087, 0.10064038, ..., 0.6623334 , 0.551874  ,\n       0.551874  ], dtype=float32)"
     },
     "execution_count": 9,
     "metadata": {},
     "output_type": "execute_result"
    }
   ],
   "source": [
    "spectral_flux = features.extract_spectral_flux(y, sr)\n",
    "spectral_flux"
   ],
   "metadata": {
    "collapsed": false,
    "ExecuteTime": {
     "end_time": "2024-05-16T01:12:39.522590Z",
     "start_time": "2024-05-16T01:12:39.044076Z"
    }
   },
   "id": "b8b6a686e20a8437"
  },
  {
   "cell_type": "markdown",
   "source": [],
   "metadata": {
    "collapsed": false
   },
   "id": "5385e215ce95cca"
  },
  {
   "cell_type": "code",
   "execution_count": 3,
   "outputs": [
    {
     "name": "stderr",
     "output_type": "stream",
     "text": [
      "/Users/imdohyeon/Documents/PythonWorkspace/Lieon-ai/preprocessing/features.py:108: RuntimeWarning: invalid value encountered in true_divide\n",
      "  ps = S / np.sum(S, axis=0)\n"
     ]
    },
    {
     "data": {
      "text/plain": "array([3.4040468, 3.1216648, 3.2640953, ..., 2.2702453, 4.448911 ,\n       5.1298194], dtype=float32)"
     },
     "execution_count": 3,
     "metadata": {},
     "output_type": "execute_result"
    }
   ],
   "source": [
    "spectral_entropy = features.extract_spectral_entropy(y, sr)\n",
    "spectral_entropy"
   ],
   "metadata": {
    "collapsed": false,
    "ExecuteTime": {
     "end_time": "2024-05-16T01:20:14.452495Z",
     "start_time": "2024-05-16T01:20:13.826555Z"
    }
   },
   "id": "8a9631b945a39496"
  },
  {
   "cell_type": "code",
   "execution_count": 11,
   "outputs": [
    {
     "data": {
      "text/plain": "array([40., 40., 40., ..., 40., 40., 40.])"
     },
     "execution_count": 11,
     "metadata": {},
     "output_type": "execute_result"
    }
   ],
   "source": [
    "speech_rate, pause_durations = features.extract_prosody_features(y, sr)\n",
    "speech_rate"
   ],
   "metadata": {
    "collapsed": false,
    "ExecuteTime": {
     "end_time": "2024-05-16T01:12:49.083807Z",
     "start_time": "2024-05-16T01:12:42.980204Z"
    }
   },
   "id": "6023a0366d3dbc9e"
  },
  {
   "cell_type": "code",
   "execution_count": 12,
   "outputs": [
    {
     "data": {
      "text/plain": "array([0, 0, 0, ..., 0, 0, 0])"
     },
     "execution_count": 12,
     "metadata": {},
     "output_type": "execute_result"
    }
   ],
   "source": [
    "pause_durations"
   ],
   "metadata": {
    "collapsed": false,
    "ExecuteTime": {
     "end_time": "2024-05-16T01:14:32.072413Z",
     "start_time": "2024-05-16T01:14:32.064434Z"
    }
   },
   "id": "1faed74f33f7f66c"
  },
  {
   "cell_type": "code",
   "execution_count": 4,
   "outputs": [
    {
     "data": {
      "text/plain": "           MFCC_1     MFCC_2    MFCC_3    MFCC_4    MFCC_5    MFCC_6  \\\n0     -495.417206   0.000000  0.000000  0.000000  0.000000  0.000000   \n1     -495.187866   0.324098  0.323434  0.322336  0.320816  0.318881   \n2     -494.760254   0.903556  0.834057  0.739228  0.642890  0.565826   \n3     -492.381958   3.716152  2.200505  0.305203 -1.275120 -1.972219   \n4     -490.777588   5.584886  3.028855 -0.131758 -2.699138 -3.715747   \n...           ...        ...       ...       ...       ...       ...   \n32471 -476.653046  20.230606  7.351832 -1.064027 -1.029781  2.104553   \n32472 -477.100403  20.072380  8.245855  0.375465 -0.601585  0.473562   \n32473 -478.840332  17.821251  7.057763  1.148241  1.336689  1.094638   \n32474 -455.896118  29.438046 -3.439192 -4.192606  1.600491  2.155888   \n32475 -446.165985  39.253593 -1.036788 -4.707780  1.508427  3.851819   \n\n         MFCC_7    MFCC_8    MFCC_9   MFCC_10   MFCC_11   MFCC_12   MFCC_13  \\\n0      0.000000  0.000000  0.000000  0.000000  0.000000  0.000000  0.000000   \n1      0.316557  0.313865  0.310836  0.307484  0.303854  0.299978  0.295892   \n2      0.518680  0.498489  0.490005  0.471398  0.422302  0.331354  0.200634   \n3     -1.556628 -0.220901  1.496771  2.918305  3.481720  2.950285  1.496510   \n4     -2.830625 -0.426951  2.535915  4.900361  5.757985  4.791626  2.382073   \n...         ...       ...       ...       ...       ...       ...       ...   \n32471  1.887050 -2.264232 -6.511621 -7.946602 -6.951889 -5.772226 -6.207402   \n32472 -0.636445 -3.034463 -4.390537 -4.895039 -5.895292 -7.249595 -7.945090   \n32473 -2.571450 -5.343132 -3.766730 -1.285857 -2.891763 -7.503045 -9.836198   \n32474 -1.595652 -7.557739 -3.620239  1.014191 -4.226951 -7.853891 -6.946503   \n32475  7.043076  3.183911 -0.543763  1.494752 -1.180102 -3.994945 -1.195129   \n\n        MFCC_14    MFCC_15    MFCC_16   MFCC_17   MFCC_18   MFCC_19   MFCC_20  \n0      0.000000   0.000000   0.000000  0.000000  0.000000  0.000000  0.000000  \n1      0.291630   0.287234   0.282744  0.278202  0.273638  0.269099  0.264621  \n2      0.045377  -0.110893  -0.244160 -0.337866 -0.388276 -0.405342 -0.408813  \n3     -0.368650  -1.992079  -2.824135 -2.620312 -1.524205 -0.003528  1.333023  \n4     -0.555967  -2.937652  -3.925256 -3.236431 -1.229005  1.261328  3.257974  \n...         ...        ...        ...       ...       ...       ...       ...  \n32471 -8.241718 -10.187572 -10.361738 -8.720877 -6.465870 -4.306704 -1.940418  \n32472 -7.961936  -8.044268  -8.361979 -8.368439 -7.531447 -5.729403 -3.326677  \n32473 -8.245914  -6.558857  -7.869699 -9.979229 -8.810524 -4.333773 -0.481491  \n32474 -6.590614  -8.422939 -11.324759 -8.956722 -4.992223 -5.797482 -5.584272  \n32475 -2.737187  -7.521490  -6.030214 -1.909399 -1.491092 -3.098481 -5.784638  \n\n[32476 rows x 20 columns]",
      "text/html": "<div>\n<style scoped>\n    .dataframe tbody tr th:only-of-type {\n        vertical-align: middle;\n    }\n\n    .dataframe tbody tr th {\n        vertical-align: top;\n    }\n\n    .dataframe thead th {\n        text-align: right;\n    }\n</style>\n<table border=\"1\" class=\"dataframe\">\n  <thead>\n    <tr style=\"text-align: right;\">\n      <th></th>\n      <th>MFCC_1</th>\n      <th>MFCC_2</th>\n      <th>MFCC_3</th>\n      <th>MFCC_4</th>\n      <th>MFCC_5</th>\n      <th>MFCC_6</th>\n      <th>MFCC_7</th>\n      <th>MFCC_8</th>\n      <th>MFCC_9</th>\n      <th>MFCC_10</th>\n      <th>MFCC_11</th>\n      <th>MFCC_12</th>\n      <th>MFCC_13</th>\n      <th>MFCC_14</th>\n      <th>MFCC_15</th>\n      <th>MFCC_16</th>\n      <th>MFCC_17</th>\n      <th>MFCC_18</th>\n      <th>MFCC_19</th>\n      <th>MFCC_20</th>\n    </tr>\n  </thead>\n  <tbody>\n    <tr>\n      <th>0</th>\n      <td>-495.417206</td>\n      <td>0.000000</td>\n      <td>0.000000</td>\n      <td>0.000000</td>\n      <td>0.000000</td>\n      <td>0.000000</td>\n      <td>0.000000</td>\n      <td>0.000000</td>\n      <td>0.000000</td>\n      <td>0.000000</td>\n      <td>0.000000</td>\n      <td>0.000000</td>\n      <td>0.000000</td>\n      <td>0.000000</td>\n      <td>0.000000</td>\n      <td>0.000000</td>\n      <td>0.000000</td>\n      <td>0.000000</td>\n      <td>0.000000</td>\n      <td>0.000000</td>\n    </tr>\n    <tr>\n      <th>1</th>\n      <td>-495.187866</td>\n      <td>0.324098</td>\n      <td>0.323434</td>\n      <td>0.322336</td>\n      <td>0.320816</td>\n      <td>0.318881</td>\n      <td>0.316557</td>\n      <td>0.313865</td>\n      <td>0.310836</td>\n      <td>0.307484</td>\n      <td>0.303854</td>\n      <td>0.299978</td>\n      <td>0.295892</td>\n      <td>0.291630</td>\n      <td>0.287234</td>\n      <td>0.282744</td>\n      <td>0.278202</td>\n      <td>0.273638</td>\n      <td>0.269099</td>\n      <td>0.264621</td>\n    </tr>\n    <tr>\n      <th>2</th>\n      <td>-494.760254</td>\n      <td>0.903556</td>\n      <td>0.834057</td>\n      <td>0.739228</td>\n      <td>0.642890</td>\n      <td>0.565826</td>\n      <td>0.518680</td>\n      <td>0.498489</td>\n      <td>0.490005</td>\n      <td>0.471398</td>\n      <td>0.422302</td>\n      <td>0.331354</td>\n      <td>0.200634</td>\n      <td>0.045377</td>\n      <td>-0.110893</td>\n      <td>-0.244160</td>\n      <td>-0.337866</td>\n      <td>-0.388276</td>\n      <td>-0.405342</td>\n      <td>-0.408813</td>\n    </tr>\n    <tr>\n      <th>3</th>\n      <td>-492.381958</td>\n      <td>3.716152</td>\n      <td>2.200505</td>\n      <td>0.305203</td>\n      <td>-1.275120</td>\n      <td>-1.972219</td>\n      <td>-1.556628</td>\n      <td>-0.220901</td>\n      <td>1.496771</td>\n      <td>2.918305</td>\n      <td>3.481720</td>\n      <td>2.950285</td>\n      <td>1.496510</td>\n      <td>-0.368650</td>\n      <td>-1.992079</td>\n      <td>-2.824135</td>\n      <td>-2.620312</td>\n      <td>-1.524205</td>\n      <td>-0.003528</td>\n      <td>1.333023</td>\n    </tr>\n    <tr>\n      <th>4</th>\n      <td>-490.777588</td>\n      <td>5.584886</td>\n      <td>3.028855</td>\n      <td>-0.131758</td>\n      <td>-2.699138</td>\n      <td>-3.715747</td>\n      <td>-2.830625</td>\n      <td>-0.426951</td>\n      <td>2.535915</td>\n      <td>4.900361</td>\n      <td>5.757985</td>\n      <td>4.791626</td>\n      <td>2.382073</td>\n      <td>-0.555967</td>\n      <td>-2.937652</td>\n      <td>-3.925256</td>\n      <td>-3.236431</td>\n      <td>-1.229005</td>\n      <td>1.261328</td>\n      <td>3.257974</td>\n    </tr>\n    <tr>\n      <th>...</th>\n      <td>...</td>\n      <td>...</td>\n      <td>...</td>\n      <td>...</td>\n      <td>...</td>\n      <td>...</td>\n      <td>...</td>\n      <td>...</td>\n      <td>...</td>\n      <td>...</td>\n      <td>...</td>\n      <td>...</td>\n      <td>...</td>\n      <td>...</td>\n      <td>...</td>\n      <td>...</td>\n      <td>...</td>\n      <td>...</td>\n      <td>...</td>\n      <td>...</td>\n    </tr>\n    <tr>\n      <th>32471</th>\n      <td>-476.653046</td>\n      <td>20.230606</td>\n      <td>7.351832</td>\n      <td>-1.064027</td>\n      <td>-1.029781</td>\n      <td>2.104553</td>\n      <td>1.887050</td>\n      <td>-2.264232</td>\n      <td>-6.511621</td>\n      <td>-7.946602</td>\n      <td>-6.951889</td>\n      <td>-5.772226</td>\n      <td>-6.207402</td>\n      <td>-8.241718</td>\n      <td>-10.187572</td>\n      <td>-10.361738</td>\n      <td>-8.720877</td>\n      <td>-6.465870</td>\n      <td>-4.306704</td>\n      <td>-1.940418</td>\n    </tr>\n    <tr>\n      <th>32472</th>\n      <td>-477.100403</td>\n      <td>20.072380</td>\n      <td>8.245855</td>\n      <td>0.375465</td>\n      <td>-0.601585</td>\n      <td>0.473562</td>\n      <td>-0.636445</td>\n      <td>-3.034463</td>\n      <td>-4.390537</td>\n      <td>-4.895039</td>\n      <td>-5.895292</td>\n      <td>-7.249595</td>\n      <td>-7.945090</td>\n      <td>-7.961936</td>\n      <td>-8.044268</td>\n      <td>-8.361979</td>\n      <td>-8.368439</td>\n      <td>-7.531447</td>\n      <td>-5.729403</td>\n      <td>-3.326677</td>\n    </tr>\n    <tr>\n      <th>32473</th>\n      <td>-478.840332</td>\n      <td>17.821251</td>\n      <td>7.057763</td>\n      <td>1.148241</td>\n      <td>1.336689</td>\n      <td>1.094638</td>\n      <td>-2.571450</td>\n      <td>-5.343132</td>\n      <td>-3.766730</td>\n      <td>-1.285857</td>\n      <td>-2.891763</td>\n      <td>-7.503045</td>\n      <td>-9.836198</td>\n      <td>-8.245914</td>\n      <td>-6.558857</td>\n      <td>-7.869699</td>\n      <td>-9.979229</td>\n      <td>-8.810524</td>\n      <td>-4.333773</td>\n      <td>-0.481491</td>\n    </tr>\n    <tr>\n      <th>32474</th>\n      <td>-455.896118</td>\n      <td>29.438046</td>\n      <td>-3.439192</td>\n      <td>-4.192606</td>\n      <td>1.600491</td>\n      <td>2.155888</td>\n      <td>-1.595652</td>\n      <td>-7.557739</td>\n      <td>-3.620239</td>\n      <td>1.014191</td>\n      <td>-4.226951</td>\n      <td>-7.853891</td>\n      <td>-6.946503</td>\n      <td>-6.590614</td>\n      <td>-8.422939</td>\n      <td>-11.324759</td>\n      <td>-8.956722</td>\n      <td>-4.992223</td>\n      <td>-5.797482</td>\n      <td>-5.584272</td>\n    </tr>\n    <tr>\n      <th>32475</th>\n      <td>-446.165985</td>\n      <td>39.253593</td>\n      <td>-1.036788</td>\n      <td>-4.707780</td>\n      <td>1.508427</td>\n      <td>3.851819</td>\n      <td>7.043076</td>\n      <td>3.183911</td>\n      <td>-0.543763</td>\n      <td>1.494752</td>\n      <td>-1.180102</td>\n      <td>-3.994945</td>\n      <td>-1.195129</td>\n      <td>-2.737187</td>\n      <td>-7.521490</td>\n      <td>-6.030214</td>\n      <td>-1.909399</td>\n      <td>-1.491092</td>\n      <td>-3.098481</td>\n      <td>-5.784638</td>\n    </tr>\n  </tbody>\n</table>\n<p>32476 rows × 20 columns</p>\n</div>"
     },
     "execution_count": 4,
     "metadata": {},
     "output_type": "execute_result"
    }
   ],
   "source": [
    "mfcc = features.extract_mfcc(y, sr)\n",
    "mfcc"
   ],
   "metadata": {
    "collapsed": false,
    "ExecuteTime": {
     "end_time": "2024-05-16T01:20:18.900774Z",
     "start_time": "2024-05-16T01:20:18.369893Z"
    }
   },
   "id": "19a3fba8a2c69557"
  },
  {
   "cell_type": "code",
   "execution_count": null,
   "outputs": [],
   "source": [],
   "metadata": {
    "collapsed": false
   },
   "id": "4d41519620192a66"
  }
 ],
 "metadata": {
  "kernelspec": {
   "display_name": "Python 3",
   "language": "python",
   "name": "python3"
  },
  "language_info": {
   "codemirror_mode": {
    "name": "ipython",
    "version": 2
   },
   "file_extension": ".py",
   "mimetype": "text/x-python",
   "name": "python",
   "nbconvert_exporter": "python",
   "pygments_lexer": "ipython2",
   "version": "2.7.6"
  }
 },
 "nbformat": 4,
 "nbformat_minor": 5
}
