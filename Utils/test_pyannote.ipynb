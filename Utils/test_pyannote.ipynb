{
 "cells": [
  {
   "cell_type": "code",
   "id": "initial_id",
   "metadata": {
    "collapsed": true,
    "ExecuteTime": {
     "end_time": "2024-08-10T00:44:51.692714Z",
     "start_time": "2024-08-10T00:44:46.467928Z"
    }
   },
   "source": [
    "import os\n",
    "from pyannote.audio import Pipeline\n",
    "from pyannote.core import Segment, notebook, Annotation\n",
    "import csv\n",
    "import matplotlib.pyplot as plt\n",
    "import pandas as pd"
   ],
   "outputs": [],
   "execution_count": 1
  },
  {
   "metadata": {
    "ExecuteTime": {
     "end_time": "2024-08-10T00:44:52.304655Z",
     "start_time": "2024-08-10T00:44:52.301471Z"
    }
   },
   "cell_type": "code",
   "source": "use_auth_token = os.environ[\"HUGGINGFACEHUB_API_TOKEN\"]",
   "id": "2f0c41bf5d7afd07",
   "outputs": [],
   "execution_count": 2
  },
  {
   "metadata": {
    "ExecuteTime": {
     "end_time": "2024-08-10T00:44:54.622466Z",
     "start_time": "2024-08-10T00:44:52.516957Z"
    }
   },
   "cell_type": "code",
   "source": "pipeline = Pipeline.from_pretrained(\"pyannote/speaker-diarization-3.1\", use_auth_token=use_auth_token)",
   "id": "2230d276ee69b3b9",
   "outputs": [],
   "execution_count": 3
  },
  {
   "metadata": {
    "ExecuteTime": {
     "end_time": "2024-08-10T00:44:55.321551Z",
     "start_time": "2024-08-10T00:44:55.318092Z"
    }
   },
   "cell_type": "code",
   "source": "audio_file = \"/Users/imdohyeon/Documents/PythonWorkspace/Lieon-ai/Dataset/Train/Audio/data1.wav\"",
   "id": "d4f7757e41d7185b",
   "outputs": [],
   "execution_count": 4
  },
  {
   "metadata": {
    "ExecuteTime": {
     "end_time": "2024-08-10T00:50:58.779198Z",
     "start_time": "2024-08-10T00:50:27.375858Z"
    }
   },
   "cell_type": "code",
   "source": [
    "# 음성 파일 처리\n",
    "if pipeline is not None:\n",
    "    diarization = pipeline(audio_file, num_speakers=2)\n",
    "\n",
    "    # 라벨링 결과 출력 및 CSV 파일 저장\n",
    "    label_mapping = {}\n",
    "    label_counter = 0  # 라벨 카운터를 1로 시작하여 묵음 라벨과 겹치지 않도록 함\n",
    "\n",
    "    # CSV 파일 경로\n",
    "    output_csv_file = \"/Users/imdohyeon/Documents/PythonWorkspace/Lieon-ai/Dataset/Train/Label/label1.csv\"\n",
    "\n",
    "    # CSV 파일이 저장될 디렉토리 경로\n",
    "    output_directory = os.path.dirname(output_csv_file)\n",
    "\n",
    "    # 디렉토리가 존재하지 않으면 생성\n",
    "    if not os.path.exists(output_directory):\n",
    "        os.makedirs(output_directory)\n",
    "\n",
    "    # CSV 파일 열기 및 헤더 작성\n",
    "    with open(output_csv_file, 'w', newline='') as csvfile:\n",
    "        fieldnames = ['Start', 'End', 'Speaker', 'Label']\n",
    "        writer = csv.DictWriter(csvfile, fieldnames=fieldnames)\n",
    "\n",
    "        writer.writeheader()\n",
    "\n",
    "        # 화자 구간 라벨링\n",
    "        annotation = Annotation()\n",
    "        for turn, _, speaker in diarization.itertracks(yield_label=True):\n",
    "            if speaker not in label_mapping:\n",
    "                label_mapping[speaker] = label_counter\n",
    "                label_counter += 1\n",
    "            label = label_mapping[speaker]\n",
    "            writer.writerow({'Start': turn.start, 'End': turn.end, 'Speaker': speaker, 'Label': label})\n",
    "            annotation[Segment(start=turn.start, end=turn.end)] = speaker\n",
    "\n",
    "    # 시각화\n",
    "    fig, ax = plt.subplots()\n",
    "    notebook.plot_annotation(annotation, ax=ax, time=True)\n",
    "    plt.show()\n",
    "else:\n",
    "    print(\"Failed to load the speaker diarization model.\")"
   ],
   "id": "de5f585735c22c92",
   "outputs": [
    {
     "data": {
      "text/plain": [
       "<Figure size 640x480 with 1 Axes>"
      ],
      "image/png": "[encoded data removed]"
     },
     "metadata": {},
     "output_type": "display_data"
    }
   ],
   "execution_count": 8
  },
  {
   "metadata": {},
   "cell_type": "code",
   "outputs": [],
   "execution_count": null,
   "source": "",
   "id": "2f9ddb3a10862cd1"
  }
 ],
 "metadata": {
  "kernelspec": {
   "display_name": "Python 3",
   "language": "python",
   "name": "python3"
  },
  "language_info": {
   "codemirror_mode": {
    "name": "ipython",
    "version": 2
   },
   "file_extension": ".py",
   "mimetype": "text/x-python",
   "name": "python",
   "nbconvert_exporter": "python",
   "pygments_lexer": "ipython2",
   "version": "2.7.6"
  }
 },
 "nbformat": 4,
 "nbformat_minor": 5
}
