{
 "cells": [
  {
   "cell_type": "code",
   "id": "initial_id",
   "metadata": {
    "collapsed": true,
    "ExecuteTime": {
     "end_time": "2024-06-08T07:34:59.905315Z",
     "start_time": "2024-06-08T07:34:58.634437Z"
    }
   },
   "source": [
    "# Test\n",
    "import librosa\n",
    "import numpy as np\n",
    "import pandas as pd\n",
    "import parselmouth\n",
    "from parselmouth.praat import call\n",
    "from scipy.signal import find_peaks, lfilter, hamming\n",
    "from scipy.io import wavfile\n",
    "from scipy.fftpack import fft\n",
    "import features  # features.py 파일을 import\n",
    "import os\n",
    "import torch\n",
    "from torch.utils.data import Dataset, DataLoader\n",
    "import preprocessing\n",
    "\n",
    "# 배열의 모든 요소를 출력하도록 설정\n",
    "np.set_printoptions(threshold=np.inf)"
   ],
   "outputs": [],
   "execution_count": 1
  },
  {
   "metadata": {
    "ExecuteTime": {
     "end_time": "2024-06-08T08:02:21.505236Z",
     "start_time": "2024-06-08T08:02:21.498804Z"
    }
   },
   "cell_type": "code",
   "source": [
    "# WAV 파일이 있는 디렉토리\n",
    "wav_dir_train = '/Users/imdohyeon/Documents/PythonWorkspace/Lieon-ai/dataset/train'\n",
    "wav_files_train = [os.path.join(wav_dir_train, file) for file in os.listdir(wav_dir_train) if file.endswith('.wav')]\n",
    "\n",
    "wav_dir_test = '/Users/imdohyeon/Documents/PythonWorkspace/Lieon-ai/dataset/test'\n",
    "wav_files_test = [os.path.join(wav_dir_test, file) for file in os.listdir(wav_dir_test) if file.endswith('.wav')]\n",
    "\n",
    "# 데이터셋 생성\n",
    "train_dataset = preprocessing.WAVDataset(wav_files_train)\n",
    "test_dataset = preprocessing.WAVDataset(wav_files_test)\n",
    "\n",
    "# 데이터로더 생성\n",
    "train_dataloader = DataLoader(train_dataset, batch_size=32, shuffle=True, num_workers=4)\n",
    "test_dataloader = DataLoader(test_dataset, batch_size=32, shuffle=False, num_workers=4)"
   ],
   "id": "8052f3266136650c",
   "outputs": [],
   "execution_count": 18
  },
  {
   "metadata": {
    "ExecuteTime": {
     "end_time": "2024-06-08T08:02:32.504228Z",
     "start_time": "2024-06-08T08:02:32.489313Z"
    }
   },
   "cell_type": "code",
   "source": "train_dataloader",
   "id": "86d40656b5d018f9",
   "outputs": [
    {
     "ename": "AttributeError",
     "evalue": "'DataLoader' object has no attribute 'shape'",
     "output_type": "error",
     "traceback": [
      "\u001B[0;31m---------------------------------------------------------------------------\u001B[0m",
      "\u001B[0;31mAttributeError\u001B[0m                            Traceback (most recent call last)",
      "\u001B[0;32m/var/folders/10/mbcg1njx7fx5cgtqbk198z0m0000gn/T/ipykernel_3376/4250051630.py\u001B[0m in \u001B[0;36m<module>\u001B[0;34m\u001B[0m\n\u001B[0;32m----> 1\u001B[0;31m \u001B[0mtrain_dataloader\u001B[0m\u001B[0;34m.\u001B[0m\u001B[0mshape\u001B[0m\u001B[0;34m\u001B[0m\u001B[0;34m\u001B[0m\u001B[0m\n\u001B[0m",
      "\u001B[0;31mAttributeError\u001B[0m: 'DataLoader' object has no attribute 'shape'"
     ]
    }
   ],
   "execution_count": 21
  },
  {
   "metadata": {},
   "cell_type": "code",
   "outputs": [],
   "execution_count": null,
   "source": "",
   "id": "1cbc040d1720626d"
  }
 ],
 "metadata": {
  "kernelspec": {
   "display_name": "Python 3",
   "language": "python",
   "name": "python3"
  },
  "language_info": {
   "codemirror_mode": {
    "name": "ipython",
    "version": 2
   },
   "file_extension": ".py",
   "mimetype": "text/x-python",
   "name": "python",
   "nbconvert_exporter": "python",
   "pygments_lexer": "ipython2",
   "version": "2.7.6"
  }
 },
 "nbformat": 4,
 "nbformat_minor": 5
}
